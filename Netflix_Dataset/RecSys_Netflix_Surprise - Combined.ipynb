{
 "cells": [
  {
   "cell_type": "markdown",
   "metadata": {},
   "source": [
    "# Table of Contents"
   ]
  },
  {
   "attachments": {},
   "cell_type": "markdown",
   "metadata": {},
   "source": [
    "    1) Introduction\n",
    "    2) Data Preparation\n",
    "    3) Exploratory Data Analysis\n",
    "    4) Collaborative Filter\n",
    "        4.1) SVD\n",
    "        4.2) KNN \n",
    "    5) Predictive Accuracy Metrics"
   ]
  },
  {
   "cell_type": "markdown",
   "metadata": {},
   "source": [
    "# 1) Introduction"
   ]
  },
  {
   "cell_type": "markdown",
   "metadata": {},
   "source": [
    "### Project Description\n",
    "This project is done for the course system development for marketing of the Master Digital Driven Business. The goal of this project is to make a recommender system for Netflix and Jester.\n",
    "\n",
    "### Business Questions\n",
    "Main Business question:\n",
    "- How can we use collaborative filtering to improve the success rate of a new movie streaming platform and increase the satisfaction of backers?\n",
    "\n",
    "Sub-questions:\n",
    "- Which collaborative algorithm should be implemented to effectivily recommend products to users based on their preferences?\n",
    "- How can we personalize the crowdfunding experience for backers?\n",
    "- How can the performance of the chosen collaborative algorithms be optimized?\n",
    "- What measures can we take to ensure that the collaborative filtering recommender system is fair and transparent?\n",
    "- Which metrics can we utilize to accurately measure the performance of the collaborative filtering recommender system?\n",
    "\n",
    "For companies it is very important to know their customers and what to recommend to improve customer staisfaction and loyalty.\n",
    "Therefore, a recommender system will be build using collaborative filter."
   ]
  },
  {
   "attachments": {},
   "cell_type": "markdown",
   "metadata": {},
   "source": [
    "# 2) Dataset Preparation"
   ]
  },
  {
   "cell_type": "code",
   "execution_count": 1,
   "metadata": {},
   "outputs": [],
   "source": [
    "# Importing Libraries\n",
    "import pandas as pd\n",
    "import seaborn as sns\n",
    "import matplotlib.pyplot as plt\n",
    "import numpy as np\n",
    "\n",
    "# Surprise library\n",
    "from surprise import Reader, Dataset, accuracy, SVD, NMF, KNNBasic, KNNWithMeans\n",
    "from surprise.model_selection import cross_validate, train_test_split, GridSearchCV"
   ]
  },
  {
   "cell_type": "code",
   "execution_count": 2,
   "metadata": {},
   "outputs": [],
   "source": [
    "# Importing Datasets\n",
    "movie_titles_df = pd.read_csv(\"movie_titles.txt\", encoding='latin1', on_bad_lines='skip')\n",
    "movie_titles_df.columns=[\"movie_id\", \"year\", \"name\"]"
   ]
  },
  {
   "cell_type": "code",
   "execution_count": 3,
   "metadata": {},
   "outputs": [],
   "source": [
    "# Only importing the first 4500 movies, since the data is too big to load\n",
    "movie_ratings_df = pd.read_csv(\"combined1.txt\", names = ['cust_id', 'rating'], usecols = [0, 1])\n",
    "#movie_ratings_df2 = pd.read_csv(\"combined2.txt\", names = ['cust_id', 'rating'], usecols = [0, 1])\n",
    "#movie_ratings_df3 = pd.read_csv(\"combined3.txt\", names = ['cust_id', 'rating'], usecols = [0, 1])\n",
    "#movie_ratings_df4 = pd.read_csv(\"combined4.txt\", names = ['iust_id', 'rating'], usecols = [0, 1])\n",
    "\n",
    "#probe = pd.read_csv('probe.txt', names=['user_id'])"
   ]
  },
  {
   "cell_type": "code",
   "execution_count": 4,
   "metadata": {},
   "outputs": [
    {
     "data": {
      "text/html": [
       "<div>\n",
       "<style scoped>\n",
       "    .dataframe tbody tr th:only-of-type {\n",
       "        vertical-align: middle;\n",
       "    }\n",
       "\n",
       "    .dataframe tbody tr th {\n",
       "        vertical-align: top;\n",
       "    }\n",
       "\n",
       "    .dataframe thead th {\n",
       "        text-align: right;\n",
       "    }\n",
       "</style>\n",
       "<table border=\"1\" class=\"dataframe\">\n",
       "  <thead>\n",
       "    <tr style=\"text-align: right;\">\n",
       "      <th></th>\n",
       "      <th>cust_id</th>\n",
       "      <th>rating</th>\n",
       "    </tr>\n",
       "  </thead>\n",
       "  <tbody>\n",
       "    <tr>\n",
       "      <th>0</th>\n",
       "      <td>1:</td>\n",
       "      <td>NaN</td>\n",
       "    </tr>\n",
       "    <tr>\n",
       "      <th>1</th>\n",
       "      <td>1488844</td>\n",
       "      <td>3.0</td>\n",
       "    </tr>\n",
       "    <tr>\n",
       "      <th>2</th>\n",
       "      <td>822109</td>\n",
       "      <td>5.0</td>\n",
       "    </tr>\n",
       "    <tr>\n",
       "      <th>3</th>\n",
       "      <td>885013</td>\n",
       "      <td>4.0</td>\n",
       "    </tr>\n",
       "    <tr>\n",
       "      <th>4</th>\n",
       "      <td>30878</td>\n",
       "      <td>4.0</td>\n",
       "    </tr>\n",
       "    <tr>\n",
       "      <th>...</th>\n",
       "      <td>...</td>\n",
       "      <td>...</td>\n",
       "    </tr>\n",
       "    <tr>\n",
       "      <th>24058517</th>\n",
       "      <td>1154902</td>\n",
       "      <td>5.0</td>\n",
       "    </tr>\n",
       "    <tr>\n",
       "      <th>24058518</th>\n",
       "      <td>2236573</td>\n",
       "      <td>3.0</td>\n",
       "    </tr>\n",
       "    <tr>\n",
       "      <th>24058519</th>\n",
       "      <td>2448838</td>\n",
       "      <td>5.0</td>\n",
       "    </tr>\n",
       "    <tr>\n",
       "      <th>24058520</th>\n",
       "      <td>1983272</td>\n",
       "      <td>4.0</td>\n",
       "    </tr>\n",
       "    <tr>\n",
       "      <th>24058521</th>\n",
       "      <td>1400108</td>\n",
       "      <td>4.0</td>\n",
       "    </tr>\n",
       "  </tbody>\n",
       "</table>\n",
       "<p>24058522 rows × 2 columns</p>\n",
       "</div>"
      ],
      "text/plain": [
       "          cust_id  rating\n",
       "0              1:     NaN\n",
       "1         1488844     3.0\n",
       "2          822109     5.0\n",
       "3          885013     4.0\n",
       "4           30878     4.0\n",
       "...           ...     ...\n",
       "24058517  1154902     5.0\n",
       "24058518  2236573     3.0\n",
       "24058519  2448838     5.0\n",
       "24058520  1983272     4.0\n",
       "24058521  1400108     4.0\n",
       "\n",
       "[24058522 rows x 2 columns]"
      ]
     },
     "execution_count": 4,
     "metadata": {},
     "output_type": "execute_result"
    }
   ],
   "source": [
    "movie_ratings_df"
   ]
  },
  {
   "cell_type": "code",
   "execution_count": 5,
   "metadata": {},
   "outputs": [
    {
     "name": "stdout",
     "output_type": "stream",
     "text": [
      "          cust_id  rating movie_id\n",
      "0         1488844     3.0        1\n",
      "1          822109     5.0        1\n",
      "2          885013     4.0        1\n",
      "3           30878     4.0        1\n",
      "4          823519     3.0        1\n",
      "...           ...     ...      ...\n",
      "24054017  1154902     5.0     4500\n",
      "24054018  2236573     3.0     4500\n",
      "24054019  2448838     5.0     4500\n",
      "24054020  1983272     4.0     4500\n",
      "24054021  1400108     4.0     4500\n",
      "\n",
      "[24054022 rows x 3 columns]\n"
     ]
    }
   ],
   "source": [
    "# https://www.kaggle.com/code/igorlukas/netflix-prize-igorluk\n",
    "# Function to extract the movie id from the data\n",
    "def extract_movie_id(cust_id):\n",
    "    if cust_id[-1] == ':':\n",
    "        return cust_id[:-1]\n",
    "    else:\n",
    "        return None\n",
    "\n",
    "movie_ratings_df['movie_id'] = movie_ratings_df['cust_id'].apply(extract_movie_id) # Add column movie id when user_id have last letter ':'\n",
    "movie_ratings_df['movie_id'] = movie_ratings_df['movie_id'].fillna(method='ffill') # Fill forward all NaN values of movie_id.\n",
    "movie_ratings_df.dropna(subset=['rating'], inplace=True) # Drop all rows where rating is Nan\n",
    "movie_ratings_df.reset_index(drop=True, inplace=True) # Reset index \n",
    "print(movie_ratings_df)"
   ]
  },
  {
   "cell_type": "code",
   "execution_count": 6,
   "metadata": {},
   "outputs": [
    {
     "data": {
      "text/plain": [
       "rating\n",
       "1.0    1118203\n",
       "2.0    2439113\n",
       "3.0    6904259\n",
       "4.0    8085828\n",
       "5.0    5506619\n",
       "Name: rating, dtype: int64"
      ]
     },
     "execution_count": 6,
     "metadata": {},
     "output_type": "execute_result"
    }
   ],
   "source": [
    "# Finding the distribution of different ratings in the datset\n",
    "p = movie_ratings_df.groupby('rating')['rating'].count()\n",
    "p"
   ]
  },
  {
   "cell_type": "code",
   "execution_count": 7,
   "metadata": {},
   "outputs": [
    {
     "name": "stdout",
     "output_type": "stream",
     "text": [
      "The dimensions of the netflix dataframe are:  (24054022, 3)\n"
     ]
    }
   ],
   "source": [
    "# The dimensions of the netflix dataframe\n",
    "print('The dimensions of the netflix dataframe are: ', movie_ratings_df.shape)"
   ]
  },
  {
   "cell_type": "code",
   "execution_count": 8,
   "metadata": {},
   "outputs": [
    {
     "data": {
      "text/html": [
       "<div>\n",
       "<style scoped>\n",
       "    .dataframe tbody tr th:only-of-type {\n",
       "        vertical-align: middle;\n",
       "    }\n",
       "\n",
       "    .dataframe tbody tr th {\n",
       "        vertical-align: top;\n",
       "    }\n",
       "\n",
       "    .dataframe thead th {\n",
       "        text-align: right;\n",
       "    }\n",
       "</style>\n",
       "<table border=\"1\" class=\"dataframe\">\n",
       "  <thead>\n",
       "    <tr style=\"text-align: right;\">\n",
       "      <th></th>\n",
       "      <th>rating</th>\n",
       "    </tr>\n",
       "  </thead>\n",
       "  <tbody>\n",
       "    <tr>\n",
       "      <th>count</th>\n",
       "      <td>2.405402e+07</td>\n",
       "    </tr>\n",
       "    <tr>\n",
       "      <th>mean</th>\n",
       "      <td>3.599631e+00</td>\n",
       "    </tr>\n",
       "    <tr>\n",
       "      <th>std</th>\n",
       "      <td>1.086119e+00</td>\n",
       "    </tr>\n",
       "    <tr>\n",
       "      <th>min</th>\n",
       "      <td>1.000000e+00</td>\n",
       "    </tr>\n",
       "    <tr>\n",
       "      <th>25%</th>\n",
       "      <td>3.000000e+00</td>\n",
       "    </tr>\n",
       "    <tr>\n",
       "      <th>50%</th>\n",
       "      <td>4.000000e+00</td>\n",
       "    </tr>\n",
       "    <tr>\n",
       "      <th>75%</th>\n",
       "      <td>4.000000e+00</td>\n",
       "    </tr>\n",
       "    <tr>\n",
       "      <th>max</th>\n",
       "      <td>5.000000e+00</td>\n",
       "    </tr>\n",
       "  </tbody>\n",
       "</table>\n",
       "</div>"
      ],
      "text/plain": [
       "             rating\n",
       "count  2.405402e+07\n",
       "mean   3.599631e+00\n",
       "std    1.086119e+00\n",
       "min    1.000000e+00\n",
       "25%    3.000000e+00\n",
       "50%    4.000000e+00\n",
       "75%    4.000000e+00\n",
       "max    5.000000e+00"
      ]
     },
     "execution_count": 8,
     "metadata": {},
     "output_type": "execute_result"
    }
   ],
   "source": [
    "movie_ratings_df.describe()"
   ]
  },
  {
   "cell_type": "code",
   "execution_count": 9,
   "metadata": {},
   "outputs": [
    {
     "name": "stdout",
     "output_type": "stream",
     "text": [
      "<class 'pandas.core.frame.DataFrame'>\n",
      "RangeIndex: 24054022 entries, 0 to 24054021\n",
      "Data columns (total 3 columns):\n",
      " #   Column    Dtype  \n",
      "---  ------    -----  \n",
      " 0   cust_id   object \n",
      " 1   rating    float64\n",
      " 2   movie_id  object \n",
      "dtypes: float64(1), object(2)\n",
      "memory usage: 550.6+ MB\n"
     ]
    }
   ],
   "source": [
    "movie_ratings_df.info()"
   ]
  },
  {
   "cell_type": "code",
   "execution_count": 10,
   "metadata": {},
   "outputs": [],
   "source": [
    "movie_ratings_df['cust_id'] = movie_ratings_df['cust_id'].astype(int)\n",
    "movie_ratings_df['movie_id'] = movie_ratings_df['movie_id'].astype(int)"
   ]
  },
  {
   "cell_type": "code",
   "execution_count": 11,
   "metadata": {},
   "outputs": [
    {
     "name": "stdout",
     "output_type": "stream",
     "text": [
      "cust_id     0\n",
      "rating      0\n",
      "movie_id    0\n",
      "dtype: int64\n"
     ]
    }
   ],
   "source": [
    "print(movie_ratings_df.isnull().sum())"
   ]
  },
  {
   "cell_type": "code",
   "execution_count": 12,
   "metadata": {},
   "outputs": [
    {
     "name": "stdout",
     "output_type": "stream",
     "text": [
      "Original length of the dataframe:  24054022\n",
      "There are  470758 unique users\n",
      "There are  7016 unique users that have rated more than 300 movies\n",
      "There are  4500 unique movies\n",
      "There are  774 unique movies that have more than 5000 ratings\n",
      "\n",
      "Subset of data: \n",
      "          cust_id  rating  movie_id\n",
      "5111      1744889     1.0         8\n",
      "5149      1488844     4.0         8\n",
      "5167       306466     4.0         8\n",
      "5181       573364     1.0         8\n",
      "5198      1148143     2.0         8\n",
      "...           ...     ...       ...\n",
      "24052326  1704416     4.0      4496\n",
      "24052336  2082452     3.0      4496\n",
      "24052343    15737     4.0      4496\n",
      "24052344   823628     5.0      4496\n",
      "24052346  1055714     5.0      4496\n",
      "\n",
      "[2138037 rows x 3 columns]\n"
     ]
    }
   ],
   "source": [
    "# Since the data is too large, we have to take a subset of the data by using specific criterias for the users and movies\n",
    "print(\"Original length of the dataframe: \", len(movie_ratings_df))\n",
    "# Counting Users that have not rated more than 300 movies\n",
    "usercount = movie_ratings_df[[\"movie_id\", \"cust_id\"]].groupby(\"cust_id\").count()\n",
    "print(\"There are \", usercount.shape[0], \"unique users\")\n",
    "usercount = usercount[usercount[\"movie_id\"]>300]\n",
    "print(\"There are \", usercount.shape[0], \"unique users that have rated more than 300 movies\")\n",
    "\n",
    "# Counting Jokes that do not have more than 5000 ratings\n",
    "moviecount = movie_ratings_df[[\"movie_id\", \"cust_id\"]].groupby(\"movie_id\").count()\n",
    "print(\"There are \", moviecount.shape[0], \"unique movies\")\n",
    "moviecount = moviecount[moviecount[\"cust_id\"]>5000]\n",
    "print(\"There are \", moviecount.shape[0], \"unique movies that have more than 5000 ratings\")\n",
    "\n",
    "# Removing the unactive users and unpopular jokes from the df\n",
    "movie_ratings_df = movie_ratings_df[movie_ratings_df[\"cust_id\"].isin(usercount.index) & movie_ratings_df[\"movie_id\"].isin(moviecount.index)]\n",
    "print(\"\\nSubset of data: \")\n",
    "print(movie_ratings_df)"
   ]
  },
  {
   "attachments": {},
   "cell_type": "markdown",
   "metadata": {},
   "source": [
    "# 3) Exploratory Data Analysis"
   ]
  },
  {
   "cell_type": "code",
   "execution_count": 13,
   "metadata": {},
   "outputs": [
    {
     "data": {
      "image/png": "[encoded data removed]",
      "text/plain": [
       "<Figure size 1440x288 with 3 Axes>"
      ]
     },
     "metadata": {
      "needs_background": "light"
     },
     "output_type": "display_data"
    }
   ],
   "source": [
    "# Histogram plots of various variables\n",
    "fig = plt.figure(figsize=(20, 4))\n",
    "\n",
    "plt.subplot(1,3,1)\n",
    "sns.histplot(data=movie_ratings_df, x=\"cust_id\", element=\"bars\", color=['green'], bins=40)\n",
    "\n",
    "plt.subplot(1,3,2)\n",
    "sns.histplot(data=movie_ratings_df, x=\"movie_id\", element=\"bars\", color=['green'], bins=40)\n",
    "\n",
    "plt.subplot(1,3,3)\n",
    "sns.histplot(data=movie_ratings_df, x=\"rating\", element=\"bars\", color=['green'], bins=40)\n",
    "\n",
    "plt.show()"
   ]
  },
  {
   "cell_type": "code",
   "execution_count": 14,
   "metadata": {},
   "outputs": [
    {
     "data": {
      "image/png": "[encoded data removed]",
      "text/plain": [
       "<Figure size 1440x288 with 3 Axes>"
      ]
     },
     "metadata": {
      "needs_background": "light"
     },
     "output_type": "display_data"
    }
   ],
   "source": [
    "# Boxplots of various variables\n",
    "movie_ratings_df.plot(kind = \"box\", subplots = True, figsize = (20,4), layout = (1,3))\n",
    "plt.show()"
   ]
  },
  {
   "cell_type": "code",
   "execution_count": 15,
   "metadata": {},
   "outputs": [
    {
     "data": {
      "image/png": "[encoded data removed]",
      "text/plain": [
       "<Figure size 720x360 with 2 Axes>"
      ]
     },
     "metadata": {
      "needs_background": "light"
     },
     "output_type": "display_data"
    }
   ],
   "source": [
    "# Correlation matrix\n",
    "plt.figure(figsize=(10,5))\n",
    "sns.heatmap(movie_ratings_df.corr(),cbar=True,annot=True,cmap='Greens')\n",
    "plt.show()"
   ]
  },
  {
   "attachments": {},
   "cell_type": "markdown",
   "metadata": {},
   "source": [
    "# 4) Collaborative Filter with Surprise"
   ]
  },
  {
   "attachments": {},
   "cell_type": "markdown",
   "metadata": {},
   "source": [
    "## 4.1) Code with Surprise and SVD (User based)"
   ]
  },
  {
   "cell_type": "code",
   "execution_count": 16,
   "metadata": {},
   "outputs": [],
   "source": [
    "# Hyperparameter tuning with GridSearch\n",
    "#parameters = {\"n_factors\": [5, 50, 100],\n",
    "#              \"reg_all\": [0.04, 0.06],\n",
    "#              \"n_epochs\": [5, 20, 30, 40],\n",
    "#              \"lr_all\": [.005, .01, .05]}\n",
    "#gridsvd = GridSearchCV(SVD, param_grid=parameters, n_jobs=-1)\n",
    "#gridsvd.fit(svd_data)\n",
    "#print(gridsvd.best_score)\n",
    "#print(gridsvd.best_params)"
   ]
  },
  {
   "cell_type": "code",
   "execution_count": 17,
   "metadata": {},
   "outputs": [],
   "source": [
    "svd = SVD(n_factors=100, reg_all=0.04, n_epochs=40, lr_all=.005)"
   ]
  },
  {
   "cell_type": "code",
   "execution_count": 18,
   "metadata": {},
   "outputs": [],
   "source": [
    "# Loading the Data\n",
    "reader = Reader(rating_scale=(1, 5))\n",
    "svd_data = Dataset.load_from_df(movie_ratings_df[['cust_id', 'movie_id', 'rating']], reader)"
   ]
  },
  {
   "cell_type": "code",
   "execution_count": 19,
   "metadata": {},
   "outputs": [
    {
     "name": "stdout",
     "output_type": "stream",
     "text": [
      "user: 686173     item: 3954       r_ui = 5.00   est = 4.00   {'was_impossible': False}\n",
      "user: 2320706    item: 4248       r_ui = 4.00   est = 3.71   {'was_impossible': False}\n",
      "user: 2621962    item: 3290       r_ui = 5.00   est = 4.66   {'was_impossible': False}\n",
      "user: 1719780    item: 30         r_ui = 3.00   est = 3.52   {'was_impossible': False}\n",
      "user: 2395304    item: 1837       r_ui = 3.00   est = 3.66   {'was_impossible': False}\n",
      "user: 1477153    item: 2940       r_ui = 2.00   est = 2.17   {'was_impossible': False}\n",
      "user: 519965     item: 2944       r_ui = 3.00   est = 3.56   {'was_impossible': False}\n",
      "user: 1637761    item: 4266       r_ui = 3.00   est = 2.59   {'was_impossible': False}\n",
      "user: 2341389    item: 3923       r_ui = 1.00   est = 2.39   {'was_impossible': False}\n",
      "user: 194528     item: 2072       r_ui = 3.00   est = 2.76   {'was_impossible': False}\n"
     ]
    }
   ],
   "source": [
    "# Test the model on the testing set\n",
    "svd_trainset, svd_testset = train_test_split(svd_data, test_size=0.2)\n",
    "svd.fit(svd_trainset)\n",
    "svd_predictions = svd.test(svd_testset)\n",
    "\n",
    "# Printing users actual ratings and the predicted ratings\n",
    "for prediction in svd_predictions[0:10]:\n",
    "    print(prediction)"
   ]
  },
  {
   "cell_type": "code",
   "execution_count": 20,
   "metadata": {},
   "outputs": [
    {
     "name": "stdout",
     "output_type": "stream",
     "text": [
      "RMSE: 0.8105\n"
     ]
    },
    {
     "data": {
      "text/plain": [
       "0.8105009556707427"
      ]
     },
     "execution_count": 20,
     "metadata": {},
     "output_type": "execute_result"
    }
   ],
   "source": [
    "# Print the performance metrics\n",
    "accuracy.rmse(svd_predictions)"
   ]
  },
  {
   "cell_type": "code",
   "execution_count": 21,
   "metadata": {},
   "outputs": [],
   "source": [
    "# Inspiration from https://www.kaggle.com/code/laowingkin/netflix-movie-recommendation (need APA style)\n",
    "# Function to recommend an user a number of recommendations\n",
    "def recommend_SVD(cust_id, num_recommendations):\n",
    "    user_df = movie_titles_df.copy()\n",
    "    user_df = user_df.reset_index()\n",
    "\n",
    "    data = Dataset.load_from_df(movie_ratings_df[['cust_id', 'movie_id', 'rating']], reader)\n",
    "\n",
    "    trainset = data.build_full_trainset()\n",
    "    svd.fit(trainset)\n",
    "\n",
    "    user_df['Estimate_Score'] = user_df['movie_id'].apply(lambda x: svd.predict(cust_id, x).est)\n",
    "\n",
    "    user_df = user_df.drop((['index', 'movie_id', 'year']), axis = 1)\n",
    "    user_df = user_df.sort_values('Estimate_Score', ascending=False)\n",
    "    print(user_df.head(num_recommendations))"
   ]
  },
  {
   "cell_type": "code",
   "execution_count": 22,
   "metadata": {},
   "outputs": [
    {
     "name": "stdout",
     "output_type": "stream",
     "text": [
      "                                               name  Estimate_Score\n",
      "3390                                 Lost: Season 1        4.565986\n",
      "2409  Lord of the Rings: The Fellowship of the Ring        4.379733\n",
      "4224                                The Sixth Sense        4.303711\n",
      "2809                       The Silence of the Lambs        4.300020\n",
      "2066                         The Simpsons: Season 6        4.240121\n",
      "2125                                  CSI: Season 1        4.238263\n",
      "3792                                  Batman Begins        4.208981\n",
      "2732                                     Braveheart        4.202775\n",
      "2135                         The Simpsons: Season 3        4.156613\n",
      "3888                      Finding Nemo (Widescreen)        4.153814\n"
     ]
    }
   ],
   "source": [
    "# Recommend user 100 with the top 10 movies\n",
    "recommend_SVD(100, 10)"
   ]
  },
  {
   "attachments": {},
   "cell_type": "markdown",
   "metadata": {},
   "source": [
    "## 4.2) Code with Surprise and KNN"
   ]
  },
  {
   "cell_type": "code",
   "execution_count": 23,
   "metadata": {},
   "outputs": [],
   "source": [
    "# Hyperparameter tuning with GridSearch\n",
    "#parameters = {\"name\": [\"cosine\", \"pearson\"],\n",
    "#              \"user_based\": [True, False],\n",
    "#              \"min_support\": [True, False],\n",
    "#              \"min_k\": [1, 2, 5]}\n",
    "#gridknn = GridSearchCV(KNNBasic, param_grid=parameters, n_jobs=-1)\n",
    "#gridknn.fit(data)\n",
    "#print(gridknn.best_score)\n",
    "#print(gridknn.best_params)"
   ]
  },
  {
   "cell_type": "code",
   "execution_count": 24,
   "metadata": {},
   "outputs": [],
   "source": [
    "# Loading the dataset\n",
    "reader = Reader(rating_scale=(1, 5))\n",
    "knn_data = Dataset.load_from_df(movie_ratings_df[['cust_id', 'movie_id', 'rating']][:100000], reader) # using only 100k rows for faster run time"
   ]
  },
  {
   "cell_type": "code",
   "execution_count": 25,
   "metadata": {},
   "outputs": [],
   "source": [
    "# Fitting a KNNBasic model to the training set\n",
    "knn = KNNBasic(sim_options={\"name\": 'pearson',\n",
    "                            \"user_based\": True,\n",
    "                            \"min_support\": True,\n",
    "                            \"min_k\": 1})"
   ]
  },
  {
   "cell_type": "code",
   "execution_count": 26,
   "metadata": {},
   "outputs": [
    {
     "name": "stdout",
     "output_type": "stream",
     "text": [
      "Computing the pearson similarity matrix...\n",
      "Done computing similarity matrix.\n",
      "user: 2198123    item: 108        r_ui = 3.00   est = 3.20   {'actual_k': 40, 'was_impossible': False}\n",
      "user: 1599231    item: 199        r_ui = 5.00   est = 3.90   {'actual_k': 40, 'was_impossible': False}\n",
      "user: 1640555    item: 191        r_ui = 5.00   est = 3.83   {'actual_k': 40, 'was_impossible': False}\n",
      "user: 1611857    item: 118        r_ui = 2.00   est = 3.12   {'actual_k': 40, 'was_impossible': False}\n",
      "user: 1246893    item: 118        r_ui = 2.00   est = 2.90   {'actual_k': 40, 'was_impossible': False}\n",
      "user: 1257454    item: 108        r_ui = 2.00   est = 3.33   {'actual_k': 40, 'was_impossible': False}\n",
      "user: 871687     item: 108        r_ui = 3.00   est = 3.12   {'actual_k': 40, 'was_impossible': False}\n",
      "user: 1363315    item: 28         r_ui = 5.00   est = 3.58   {'actual_k': 40, 'was_impossible': False}\n",
      "user: 2445470    item: 223        r_ui = 5.00   est = 4.20   {'actual_k': 40, 'was_impossible': False}\n",
      "user: 1954032    item: 108        r_ui = 5.00   est = 3.15   {'actual_k': 40, 'was_impossible': False}\n"
     ]
    }
   ],
   "source": [
    "# Test the model on the testing set\n",
    "knn_trainset, knn_testset = train_test_split(knn_data, test_size=0.2)\n",
    "knn.fit(knn_trainset)\n",
    "knn_predictions = knn.test(knn_testset)\n",
    "\n",
    "# Printing users actual ratings and the predicted ratings\n",
    "for prediction in knn_predictions[0:10]:\n",
    "    print(prediction)"
   ]
  },
  {
   "cell_type": "code",
   "execution_count": 27,
   "metadata": {},
   "outputs": [
    {
     "name": "stdout",
     "output_type": "stream",
     "text": [
      "RMSE: 1.0321\n"
     ]
    },
    {
     "data": {
      "text/plain": [
       "1.0320984000571096"
      ]
     },
     "execution_count": 27,
     "metadata": {},
     "output_type": "execute_result"
    }
   ],
   "source": [
    "# Print the performance metrics\n",
    "accuracy.rmse(knn_predictions)"
   ]
  },
  {
   "cell_type": "code",
   "execution_count": 28,
   "metadata": {},
   "outputs": [],
   "source": [
    "def recommend_KNN(cust_id, num_recommendations):\n",
    "    user_df = movie_titles_df.copy()\n",
    "    user_df = user_df.reset_index()\n",
    "\n",
    "    data = Dataset.load_from_df(movie_ratings_df[['cust_id', 'movie_id', 'rating']][:100000], reader)\n",
    "\n",
    "    trainset = data.build_full_trainset()\n",
    "    knn.fit(trainset)\n",
    "\n",
    "    user_df['Estimate_Score'] = user_df['movie_id'].apply(lambda x: knn.predict(cust_id, x).est)\n",
    "\n",
    "    user_df = user_df.drop('movie_id', axis = 1, ascending=False)\n",
    "\n",
    "    user_df = user_df.sort_values('Estimate_Score')\n",
    "    print(user_df.head(num_recommendations))"
   ]
  },
  {
   "cell_type": "code",
   "execution_count": 29,
   "metadata": {},
   "outputs": [
    {
     "name": "stdout",
     "output_type": "stream",
     "text": [
      "Computing the pearson similarity matrix...\n",
      "Done computing similarity matrix.\n",
      "       index    year                                      name  Estimate_Score\n",
      "0          0  2004.0                Isle of Man TT 2004 Review         3.50551\n",
      "11612  11612  2002.0  Strawberry Shortcake: Get Well Adventure         3.50551\n",
      "11613  11613  1996.0                 James and the Giant Peach         3.50551\n",
      "11614  11614  1981.0                           A Good Marriage         3.50551\n",
      "11615  11615  2001.0                           Sade: Sade Live         3.50551\n",
      "11616  11616  1944.0                        Tall in the Saddle         3.50551\n",
      "11617  11617  1997.0                               All Over Me         3.50551\n",
      "11618  11618  1998.0                           Out of the Past         3.50551\n",
      "11619  11619  1987.0                               Tragic Hero         3.50551\n",
      "11620  11620  1952.0                            Victory at Sea         3.50551\n"
     ]
    }
   ],
   "source": [
    "# Recommend user 100 with the top 10 jokes\n",
    "recommend_KNN(100, 10)"
   ]
  },
  {
   "cell_type": "code",
   "execution_count": 30,
   "metadata": {},
   "outputs": [],
   "source": [
    "# Function where the user can input their user id and the number of recommendation they need\n",
    "def recommend_KNN_input():\n",
    "    cust_id = int(input(\"What is your User ID?\"))\n",
    "    num_recommendations = int(input(\"How many recommendations do you want?\"))\n",
    "    user_df = movie_titles_df.copy()\n",
    "    user_df = user_df.reset_index()\n",
    "\n",
    "    data = Dataset.load_from_df(movie_ratings_df[['cust_id', 'movie_id', 'rating']][:100000], reader)\n",
    "\n",
    "    trainset = data.build_full_trainset()\n",
    "    knn.fit(trainset)\n",
    "\n",
    "    user_df['Estimate_Score'] = user_df['movie_id'].apply(lambda x: knn.predict(cust_id, x).est)\n",
    "\n",
    "    user_df = user_df.drop('movie_id', axis = 1)\n",
    "\n",
    "    user_df = user_df.sort_values('Estimate_Score', ascending=False)\n",
    "    print(user_df.head(num_recommendations))"
   ]
  },
  {
   "cell_type": "code",
   "execution_count": null,
   "metadata": {},
   "outputs": [],
   "source": [
    "# Function where the user gets a random joke and depending if they like or dislike the joke, they get another similar joke\n",
    "import random\n",
    "\n",
    "def recommend_KNN_input_2():\n",
    "    user_df = movie_titles_df.copy()\n",
    "    user_df = user_df.reset_index()\n",
    "\n",
    "    data = Dataset.load_from_df(movie_ratings_df[['cust_id', 'movie_id', 'rating']][:100000], reader)\n",
    "\n",
    "    trainset = data.build_full_trainset()\n",
    "    knn.fit(trainset)\n",
    "\n",
    "    # Randomly select a joke\n",
    "    random_movieId = random.randint(1, 128)\n",
    "    random_movie_title = user_df.loc[user_df['movie_id'] == random_movieId, 'name'].item()\n",
    "    print(\"Here is your movie recommendation: \")\n",
    "    print(random_movie_title)\n",
    "\n",
    "    accum = 0\n",
    "   \n",
    "    while True:\n",
    "        liked = input(\"Do you want a similair movie? Answer with Y or N\")\n",
    "        # Ask the user to continue or leave\n",
    "        if liked.lower() == 'y':\n",
    "            user_df['Estimate_Score'] = user_df['movie_id'].apply(lambda x: knn.predict(random_movieId, x).est)\n",
    "            user_df = user_df.sort_values('Estimate_Score', ascending=False)\n",
    "            print(\"Here is another movie recommendation: \")\n",
    "            print(user_df['name'][accum])\n",
    "            accum += 1\n",
    "        else:\n",
    "            print(\"Goodbye\")\n",
    "            break"
   ]
  },
  {
   "attachments": {},
   "cell_type": "markdown",
   "metadata": {},
   "source": [
    "# 5) Predictive accuracy metrics"
   ]
  },
  {
   "cell_type": "code",
   "execution_count": null,
   "metadata": {},
   "outputs": [
    {
     "name": "stdout",
     "output_type": "stream",
     "text": [
      "Computing the cosine similarity matrix...\n",
      "Done computing similarity matrix.\n",
      "Computing the cosine similarity matrix...\n",
      "Done computing similarity matrix.\n",
      "Computing the cosine similarity matrix...\n",
      "Done computing similarity matrix.\n",
      "Computing the cosine similarity matrix...\n",
      "Done computing similarity matrix.\n",
      "Computing the cosine similarity matrix...\n",
      "Done computing similarity matrix.\n",
      "Evaluating RMSE, MAE of algorithm KNNBasic on 5 split(s).\n",
      "\n",
      "                  Fold 1  Fold 2  Fold 3  Fold 4  Fold 5  Mean    Std     \n",
      "RMSE (testset)    0.9495  0.9395  0.9336  0.9476  0.9391  0.9418  0.0059  \n",
      "MAE (testset)     0.7516  0.7455  0.7396  0.7503  0.7446  0.7463  0.0043  \n",
      "Fit time          0.60    0.57    0.56    0.56    0.56    0.57    0.01    \n",
      "Test time         2.32    2.32    2.29    2.31    2.28    2.30    0.02    \n"
     ]
    },
    {
     "data": {
      "text/plain": [
       "{'test_rmse': array([0.94945978, 0.9394827 , 0.93360877, 0.94760951, 0.93908888]),\n",
       " 'test_mae': array([0.75158312, 0.74551442, 0.73963923, 0.75025191, 0.74458539]),\n",
       " 'fit_time': (0.5959446430206299,\n",
       "  0.5658168792724609,\n",
       "  0.5551180839538574,\n",
       "  0.5568156242370605,\n",
       "  0.5632829666137695),\n",
       " 'test_time': (2.3193154335021973,\n",
       "  2.322190284729004,\n",
       "  2.285737991333008,\n",
       "  2.311873435974121,\n",
       "  2.2797248363494873)}"
      ]
     },
     "execution_count": 59,
     "metadata": {},
     "output_type": "execute_result"
    }
   ],
   "source": [
    "# Run 5-fold cross-validation and print results\n",
    "cross_validate(knn, knn_data, measures=[\"RMSE\", \"MAE\"], cv=5, verbose=True) # Loading time ~10 minutes"
   ]
  },
  {
   "cell_type": "code",
   "execution_count": null,
   "metadata": {},
   "outputs": [
    {
     "name": "stdout",
     "output_type": "stream",
     "text": [
      "Evaluating RMSE, MAE of algorithm SVD on 5 split(s).\n",
      "\n",
      "                  Fold 1  Fold 2  Fold 3  Fold 4  Fold 5  Mean    Std     \n",
      "RMSE (testset)    0.8284  0.8297  0.8326  0.8307  0.8254  0.8294  0.0024  \n",
      "MAE (testset)     0.6498  0.6507  0.6535  0.6522  0.6478  0.6508  0.0020  \n",
      "Fit time          5.80    5.88    5.89    5.86    5.87    5.86    0.03    \n",
      "Test time         0.72    2.01    0.73    0.70    0.72    0.98    0.51    \n"
     ]
    },
    {
     "data": {
      "text/plain": [
       "{'test_rmse': array([0.82839308, 0.82970504, 0.83257649, 0.83065726, 0.82541817]),\n",
       " 'test_mae': array([0.64978678, 0.65067839, 0.65352176, 0.65217688, 0.64784157]),\n",
       " 'fit_time': (5.79892373085022,\n",
       "  5.875215291976929,\n",
       "  5.885404109954834,\n",
       "  5.864975690841675,\n",
       "  5.874457597732544),\n",
       " 'test_time': (0.7238659858703613,\n",
       "  2.0070366859436035,\n",
       "  0.7333800792694092,\n",
       "  0.7027847766876221,\n",
       "  0.7209837436676025)}"
      ]
     },
     "execution_count": 60,
     "metadata": {},
     "output_type": "execute_result"
    }
   ],
   "source": [
    "# Run 5-fold cross-validation and print results\n",
    "cross_validate(svd, svd_data, measures=[\"RMSE\", \"MAE\"], cv=5, verbose=True)"
   ]
  }
 ],
 "metadata": {
  "kernelspec": {
   "display_name": "base",
   "language": "python",
   "name": "python3"
  },
  "language_info": {
   "codemirror_mode": {
    "name": "ipython",
    "version": 3
   },
   "file_extension": ".py",
   "mimetype": "text/x-python",
   "name": "python",
   "nbconvert_exporter": "python",
   "pygments_lexer": "ipython3",
   "version": "3.9.12"
  },
  "orig_nbformat": 4,
  "vscode": {
   "interpreter": {
    "hash": "c8e761b7a1b5dfbe3d1366d8cff8eb71273a1ceb234d48d6fb9f5da8adbacd69"
   }
  }
 },
 "nbformat": 4,
 "nbformat_minor": 2
}
