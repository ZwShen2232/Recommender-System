{
 "cells": [
  {
   "cell_type": "markdown",
   "metadata": {},
   "source": [
    "# Table of Contents"
   ]
  },
  {
   "attachments": {},
   "cell_type": "markdown",
   "metadata": {},
   "source": [
    "    2) Data Preparation\n",
    "    3) Data Cleaning\n",
    "    4) Exploratory Data Analysis\n",
    "    5) Collaborative Filter\n",
    "        5.1) SVD\n",
    "        5.2) KNN \n",
    "    6) Evaluation\n",
    "        6.1) Predictive Accuracy Metrics\n",
    "        6.1) Classification Accuracy Metrics\n",
    "        6.2) Rank Accuracy Metrics\n",
    "    7) Interpretable Machine Learning\n",
    "        7.1) LIME\n",
    "        7.2) SHAP"
   ]
  },
  {
   "cell_type": "markdown",
   "metadata": {},
   "source": [
    "# 1) Introduction"
   ]
  },
  {
   "attachments": {},
   "cell_type": "markdown",
   "metadata": {},
   "source": [
    "### Project Description\n",
    "This project is done for the course system development for marketing of the Master Digital Driven Business. The goal of this project is to make a recommender system for Netflix and Jester.\n",
    "\n",
    "### Business Questions\n",
    "Main Business question:\n",
    "- How can we use collaborative filtering to improve the success rate of a new movie streaming platform and increase the satisfaction of backers?\n",
    "\n",
    "Sub-questions:\n",
    "- Which collaborative algorithm should be implemented to effectivily recommend products to users based on their preferences?\n",
    "- How can we personalize the crowdfunding experience for backers?\n",
    "- How can the performance of the chosen collaborative algorithms be optimized?\n",
    "- What measures can we take to ensure that the collaborative filtering recommender system is fair and transparent?\n",
    "- Which metrics can we utilize to accurately measure the performance of the collaborative filtering recommender system?\n",
    "\n",
    "For companies it is very important to know their customers and what to recommend to improve customer staisfaction and loyalty.\n",
    "Therefore, a recommender system will be build using collaborative filter."
   ]
  },
  {
   "attachments": {},
   "cell_type": "markdown",
   "metadata": {},
   "source": [
    "# 2) Dataset Preparation"
   ]
  },
  {
   "cell_type": "code",
   "execution_count": 2,
   "metadata": {},
   "outputs": [],
   "source": [
    "# Importing Libraries\n",
    "import pandas as pd\n",
    "import seaborn as sns\n",
    "import matplotlib.pyplot as plt\n",
    "import numpy as np\n",
    "\n",
    "# Surprise library\n",
    "from surprise import Reader, Dataset, accuracy, SVD, NMF, KNNBasic, KNNWithMeans\n",
    "from surprise.model_selection import cross_validate, train_test_split, GridSearchCV"
   ]
  },
  {
   "cell_type": "code",
   "execution_count": 3,
   "metadata": {},
   "outputs": [],
   "source": [
    "# Importing Datasets\n",
    "jester_df = pd.read_csv(r\"jester_ratings.csv\")\n",
    "jester_text_df = pd.read_csv(r\"jester_items.csv\")"
   ]
  },
  {
   "cell_type": "code",
   "execution_count": 4,
   "metadata": {},
   "outputs": [
    {
     "name": "stdout",
     "output_type": "stream",
     "text": [
      "The dimensions of the jester dataframe are:  (1761439, 3)\n",
      "The dimensions of the jester text dataframe are:  (150, 2)\n"
     ]
    }
   ],
   "source": [
    "print('The dimensions of the jester dataframe are: ', jester_df.shape)\n",
    "print('The dimensions of the jester text dataframe are: ', jester_text_df.shape)"
   ]
  },
  {
   "cell_type": "code",
   "execution_count": 5,
   "metadata": {},
   "outputs": [
    {
     "data": {
      "text/html": [
       "<div>\n",
       "<style scoped>\n",
       "    .dataframe tbody tr th:only-of-type {\n",
       "        vertical-align: middle;\n",
       "    }\n",
       "\n",
       "    .dataframe tbody tr th {\n",
       "        vertical-align: top;\n",
       "    }\n",
       "\n",
       "    .dataframe thead th {\n",
       "        text-align: right;\n",
       "    }\n",
       "</style>\n",
       "<table border=\"1\" class=\"dataframe\">\n",
       "  <thead>\n",
       "    <tr style=\"text-align: right;\">\n",
       "      <th></th>\n",
       "      <th>userId</th>\n",
       "      <th>jokeId</th>\n",
       "      <th>rating</th>\n",
       "    </tr>\n",
       "  </thead>\n",
       "  <tbody>\n",
       "    <tr>\n",
       "      <th>0</th>\n",
       "      <td>1</td>\n",
       "      <td>5</td>\n",
       "      <td>0.219</td>\n",
       "    </tr>\n",
       "    <tr>\n",
       "      <th>1</th>\n",
       "      <td>1</td>\n",
       "      <td>7</td>\n",
       "      <td>-9.281</td>\n",
       "    </tr>\n",
       "    <tr>\n",
       "      <th>2</th>\n",
       "      <td>1</td>\n",
       "      <td>8</td>\n",
       "      <td>-9.281</td>\n",
       "    </tr>\n",
       "    <tr>\n",
       "      <th>3</th>\n",
       "      <td>1</td>\n",
       "      <td>13</td>\n",
       "      <td>-6.781</td>\n",
       "    </tr>\n",
       "    <tr>\n",
       "      <th>4</th>\n",
       "      <td>1</td>\n",
       "      <td>15</td>\n",
       "      <td>0.875</td>\n",
       "    </tr>\n",
       "  </tbody>\n",
       "</table>\n",
       "</div>"
      ],
      "text/plain": [
       "   userId  jokeId  rating\n",
       "0       1       5   0.219\n",
       "1       1       7  -9.281\n",
       "2       1       8  -9.281\n",
       "3       1      13  -6.781\n",
       "4       1      15   0.875"
      ]
     },
     "execution_count": 5,
     "metadata": {},
     "output_type": "execute_result"
    }
   ],
   "source": [
    "jester_df.head()"
   ]
  },
  {
   "cell_type": "code",
   "execution_count": 6,
   "metadata": {},
   "outputs": [
    {
     "data": {
      "text/html": [
       "<div>\n",
       "<style scoped>\n",
       "    .dataframe tbody tr th:only-of-type {\n",
       "        vertical-align: middle;\n",
       "    }\n",
       "\n",
       "    .dataframe tbody tr th {\n",
       "        vertical-align: top;\n",
       "    }\n",
       "\n",
       "    .dataframe thead th {\n",
       "        text-align: right;\n",
       "    }\n",
       "</style>\n",
       "<table border=\"1\" class=\"dataframe\">\n",
       "  <thead>\n",
       "    <tr style=\"text-align: right;\">\n",
       "      <th></th>\n",
       "      <th>jokeId</th>\n",
       "      <th>jokeText</th>\n",
       "    </tr>\n",
       "  </thead>\n",
       "  <tbody>\n",
       "    <tr>\n",
       "      <th>0</th>\n",
       "      <td>1</td>\n",
       "      <td>A man visits the doctor. The doctor says \"I ha...</td>\n",
       "    </tr>\n",
       "    <tr>\n",
       "      <th>1</th>\n",
       "      <td>2</td>\n",
       "      <td>This couple had an excellent relationship goin...</td>\n",
       "    </tr>\n",
       "    <tr>\n",
       "      <th>2</th>\n",
       "      <td>3</td>\n",
       "      <td>Q. What's 200 feet long and has 4 teeth? \\n\\nA...</td>\n",
       "    </tr>\n",
       "    <tr>\n",
       "      <th>3</th>\n",
       "      <td>4</td>\n",
       "      <td>Q. What's the difference between a man and a t...</td>\n",
       "    </tr>\n",
       "    <tr>\n",
       "      <th>4</th>\n",
       "      <td>5</td>\n",
       "      <td>Q.\\tWhat's O. J. Simpson's Internet address? \\...</td>\n",
       "    </tr>\n",
       "  </tbody>\n",
       "</table>\n",
       "</div>"
      ],
      "text/plain": [
       "   jokeId                                           jokeText\n",
       "0       1  A man visits the doctor. The doctor says \"I ha...\n",
       "1       2  This couple had an excellent relationship goin...\n",
       "2       3  Q. What's 200 feet long and has 4 teeth? \\n\\nA...\n",
       "3       4  Q. What's the difference between a man and a t...\n",
       "4       5  Q.\\tWhat's O. J. Simpson's Internet address? \\..."
      ]
     },
     "execution_count": 6,
     "metadata": {},
     "output_type": "execute_result"
    }
   ],
   "source": [
    "jester_text_df.head()"
   ]
  },
  {
   "cell_type": "code",
   "execution_count": 7,
   "metadata": {},
   "outputs": [
    {
     "data": {
      "text/html": [
       "<div>\n",
       "<style scoped>\n",
       "    .dataframe tbody tr th:only-of-type {\n",
       "        vertical-align: middle;\n",
       "    }\n",
       "\n",
       "    .dataframe tbody tr th {\n",
       "        vertical-align: top;\n",
       "    }\n",
       "\n",
       "    .dataframe thead th {\n",
       "        text-align: right;\n",
       "    }\n",
       "</style>\n",
       "<table border=\"1\" class=\"dataframe\">\n",
       "  <thead>\n",
       "    <tr style=\"text-align: right;\">\n",
       "      <th></th>\n",
       "      <th>userId</th>\n",
       "      <th>jokeId</th>\n",
       "      <th>rating</th>\n",
       "    </tr>\n",
       "  </thead>\n",
       "  <tbody>\n",
       "    <tr>\n",
       "      <th>count</th>\n",
       "      <td>1.761439e+06</td>\n",
       "      <td>1.761439e+06</td>\n",
       "      <td>1.761439e+06</td>\n",
       "    </tr>\n",
       "    <tr>\n",
       "      <th>mean</th>\n",
       "      <td>3.272322e+04</td>\n",
       "      <td>7.071133e+01</td>\n",
       "      <td>1.618602e+00</td>\n",
       "    </tr>\n",
       "    <tr>\n",
       "      <th>std</th>\n",
       "      <td>1.828011e+04</td>\n",
       "      <td>4.600790e+01</td>\n",
       "      <td>5.302608e+00</td>\n",
       "    </tr>\n",
       "    <tr>\n",
       "      <th>min</th>\n",
       "      <td>1.000000e+00</td>\n",
       "      <td>5.000000e+00</td>\n",
       "      <td>-1.000000e+01</td>\n",
       "    </tr>\n",
       "    <tr>\n",
       "      <th>25%</th>\n",
       "      <td>1.720200e+04</td>\n",
       "      <td>2.100000e+01</td>\n",
       "      <td>-2.031000e+00</td>\n",
       "    </tr>\n",
       "    <tr>\n",
       "      <th>50%</th>\n",
       "      <td>3.480800e+04</td>\n",
       "      <td>6.900000e+01</td>\n",
       "      <td>2.219000e+00</td>\n",
       "    </tr>\n",
       "    <tr>\n",
       "      <th>75%</th>\n",
       "      <td>4.730600e+04</td>\n",
       "      <td>1.120000e+02</td>\n",
       "      <td>5.719000e+00</td>\n",
       "    </tr>\n",
       "    <tr>\n",
       "      <th>max</th>\n",
       "      <td>6.397800e+04</td>\n",
       "      <td>1.500000e+02</td>\n",
       "      <td>1.000000e+01</td>\n",
       "    </tr>\n",
       "  </tbody>\n",
       "</table>\n",
       "</div>"
      ],
      "text/plain": [
       "             userId        jokeId        rating\n",
       "count  1.761439e+06  1.761439e+06  1.761439e+06\n",
       "mean   3.272322e+04  7.071133e+01  1.618602e+00\n",
       "std    1.828011e+04  4.600790e+01  5.302608e+00\n",
       "min    1.000000e+00  5.000000e+00 -1.000000e+01\n",
       "25%    1.720200e+04  2.100000e+01 -2.031000e+00\n",
       "50%    3.480800e+04  6.900000e+01  2.219000e+00\n",
       "75%    4.730600e+04  1.120000e+02  5.719000e+00\n",
       "max    6.397800e+04  1.500000e+02  1.000000e+01"
      ]
     },
     "execution_count": 7,
     "metadata": {},
     "output_type": "execute_result"
    }
   ],
   "source": [
    "jester_df.describe()"
   ]
  },
  {
   "cell_type": "code",
   "execution_count": 8,
   "metadata": {},
   "outputs": [
    {
     "name": "stdout",
     "output_type": "stream",
     "text": [
      "<class 'pandas.core.frame.DataFrame'>\n",
      "RangeIndex: 1761439 entries, 0 to 1761438\n",
      "Data columns (total 3 columns):\n",
      " #   Column  Dtype  \n",
      "---  ------  -----  \n",
      " 0   userId  int64  \n",
      " 1   jokeId  int64  \n",
      " 2   rating  float64\n",
      "dtypes: float64(1), int64(2)\n",
      "memory usage: 40.3 MB\n"
     ]
    }
   ],
   "source": [
    "jester_df.info()"
   ]
  },
  {
   "cell_type": "code",
   "execution_count": 9,
   "metadata": {},
   "outputs": [
    {
     "name": "stdout",
     "output_type": "stream",
     "text": [
      "userId    0\n",
      "jokeId    0\n",
      "rating    0\n",
      "dtype: int64\n",
      "jokeId      0\n",
      "jokeText    0\n",
      "dtype: int64\n"
     ]
    }
   ],
   "source": [
    "print(jester_df.isnull().sum())\n",
    "print(jester_text_df.isnull().sum())\n",
    "\n",
    "#Percentage of data that is missing from the dataset\n",
    "# print('\\nPercentage of the data that has a null value:',(jester_df.isnull().sum()/jester_df.count())*100)"
   ]
  },
  {
   "attachments": {},
   "cell_type": "markdown",
   "metadata": {},
   "source": [
    "# 3) Exploratory Data Analysis"
   ]
  },
  {
   "cell_type": "code",
   "execution_count": 10,
   "metadata": {},
   "outputs": [
    {
     "data": {
      "image/png": "[encoded data removed]",
      "text/plain": [
       "<Figure size 1440x288 with 3 Axes>"
      ]
     },
     "metadata": {
      "needs_background": "light"
     },
     "output_type": "display_data"
    }
   ],
   "source": [
    "# Histogram plots of various variables\n",
    "fig = plt.figure(figsize=(20, 4))\n",
    "\n",
    "plt.subplot(1,3,1)\n",
    "sns.histplot(data=jester_df, x=\"userId\", element=\"bars\", color=['green'], bins=40)\n",
    "\n",
    "plt.subplot(1,3,2)\n",
    "sns.histplot(data=jester_df, x=\"jokeId\", element=\"bars\", color=['green'], bins=40)\n",
    "\n",
    "plt.subplot(1,3,3)\n",
    "sns.histplot(data=jester_df, x=\"rating\", element=\"bars\", color=['green'], bins=40)\n",
    "\n",
    "plt.show()"
   ]
  },
  {
   "cell_type": "code",
   "execution_count": 11,
   "metadata": {},
   "outputs": [
    {
     "data": {
      "image/png": "[encoded data removed]",
      "text/plain": [
       "<Figure size 1440x288 with 3 Axes>"
      ]
     },
     "metadata": {
      "needs_background": "light"
     },
     "output_type": "display_data"
    }
   ],
   "source": [
    "# Boxplots of various variables\n",
    "jester_df.plot(kind = \"box\", subplots = True, figsize = (20,4), layout = (1,3))\n",
    "plt.show()"
   ]
  },
  {
   "cell_type": "code",
   "execution_count": 12,
   "metadata": {},
   "outputs": [
    {
     "data": {
      "image/png": "[encoded data removed]",
      "text/plain": [
       "<Figure size 720x360 with 2 Axes>"
      ]
     },
     "metadata": {
      "needs_background": "light"
     },
     "output_type": "display_data"
    }
   ],
   "source": [
    "# Second Correlation matrix\n",
    "plt.figure(figsize=(10,5))\n",
    "sns.heatmap(jester_df.corr(),cbar=True,annot=True,cmap='Greens')\n",
    "plt.show()"
   ]
  },
  {
   "attachments": {},
   "cell_type": "markdown",
   "metadata": {},
   "source": [
    "# 4) Collaborative Filter with Surprise"
   ]
  },
  {
   "attachments": {},
   "cell_type": "markdown",
   "metadata": {},
   "source": [
    "## 4.1) Code with Surprise and SVD (User based)"
   ]
  },
  {
   "cell_type": "code",
   "execution_count": 13,
   "metadata": {},
   "outputs": [],
   "source": [
    "# Hyperparameter tuning with GridSearch\n",
    "#parameters = {\"n_factors\": [100, 150, 200],\n",
    "#              \"reg_all\": [0.04, 0.06],\n",
    "#              \"n_epochs\": [5, 10, 15],\n",
    "#              \"lr_all\": [.002, .005, .01]}\n",
    "#gridsvd = GridSearchCV(SVD, param_grid=parameters, n_jobs=-1)\n",
    "#gridsvd.fit(data)\n",
    "#print(gridsvd.best_score)\n",
    "#print(gridsvd.best_params)"
   ]
  },
  {
   "cell_type": "code",
   "execution_count": 14,
   "metadata": {},
   "outputs": [],
   "source": [
    "svd = SVD(n_factors=100, reg_all=0.06, n_epochs=5, lr_all=.005)"
   ]
  },
  {
   "cell_type": "code",
   "execution_count": 15,
   "metadata": {},
   "outputs": [],
   "source": [
    "# Loading the Data\n",
    "reader = Reader(rating_scale=(-10, 10))\n",
    "svd_data = Dataset.load_from_df(jester_df[['userId', 'jokeId', 'rating']], reader)"
   ]
  },
  {
   "cell_type": "code",
   "execution_count": 16,
   "metadata": {},
   "outputs": [],
   "source": [
    "svd_trainset, svd_testset = train_test_split(svd_data, test_size=0.2)"
   ]
  },
  {
   "cell_type": "code",
   "execution_count": 17,
   "metadata": {},
   "outputs": [],
   "source": [
    "# Fitting KNNBasic model to training set\n",
    "svd.fit(svd_trainset)\n",
    "\n",
    "# Test the model on the testing set\n",
    "svd_predictions = svd.test(svd_testset)"
   ]
  },
  {
   "cell_type": "code",
   "execution_count": 18,
   "metadata": {},
   "outputs": [
    {
     "name": "stdout",
     "output_type": "stream",
     "text": [
      "user: 37611      item: 96         r_ui = 2.03   est = 0.96   {'was_impossible': False}\n",
      "user: 10870      item: 15         r_ui = 4.31   est = 0.36   {'was_impossible': False}\n",
      "user: 44683      item: 135        r_ui = 4.62   est = 3.42   {'was_impossible': False}\n",
      "user: 3423       item: 13         r_ui = -4.00   est = -1.48   {'was_impossible': False}\n",
      "user: 41441      item: 18         r_ui = 1.12   est = -4.51   {'was_impossible': False}\n"
     ]
    }
   ],
   "source": [
    "# Printing users actual ratings and the predicted ratings\n",
    "for prediction in svd_predictions[0:5]:\n",
    "    print(prediction)"
   ]
  },
  {
   "cell_type": "code",
   "execution_count": 19,
   "metadata": {},
   "outputs": [
    {
     "name": "stdout",
     "output_type": "stream",
     "text": [
      "RMSE: 4.2714\n"
     ]
    },
    {
     "data": {
      "text/plain": [
       "4.271395915633741"
      ]
     },
     "execution_count": 19,
     "metadata": {},
     "output_type": "execute_result"
    }
   ],
   "source": [
    "# Print the performance metrics\n",
    "accuracy.rmse(svd_predictions)"
   ]
  },
  {
   "cell_type": "code",
   "execution_count": 20,
   "metadata": {},
   "outputs": [],
   "source": [
    "# Inspiration from https://www.kaggle.com/code/laowingkin/netflix-movie-recommendation (need APA style)\n",
    "# Function to recommend an user a number of recommendations\n",
    "def recommend_SVD(userId, num_recommendations):\n",
    "    user_df = jester_text_df.copy()\n",
    "    user_df = user_df.reset_index()\n",
    "\n",
    "    data = Dataset.load_from_df(jester_df[['userId', 'jokeId', 'rating']], reader)\n",
    "\n",
    "    trainset = data.build_full_trainset()\n",
    "    svd.fit(trainset)\n",
    "\n",
    "    user_df['Estimate_Score'] = user_df['jokeId'].apply(lambda x: svd.predict(userId, x).est)\n",
    "\n",
    "    user_df = user_df.drop('jokeId', axis = 1)\n",
    "\n",
    "    user_df = user_df.sort_values('Estimate_Score', ascending=False)\n",
    "    print(user_df.head(num_recommendations))"
   ]
  },
  {
   "cell_type": "code",
   "execution_count": 21,
   "metadata": {},
   "outputs": [
    {
     "name": "stdout",
     "output_type": "stream",
     "text": [
      "     index                                           jokeText  Estimate_Score\n",
      "12      12  They asked the Japanese visitor if they have e...        5.841119\n",
      "126    126  A little boy goes to his dad and asks, \"What i...        5.752292\n",
      "16      16  How many men does it take to screw in a light ...        4.890832\n",
      "35      35  A guy walks into a bar, orders a beer and says...        4.493776\n",
      "28      28  An old Scotsmen is sitting with a younger Scot...        4.493078\n",
      "107    107  A man approached a very beautiful woman in a l...        4.403557\n",
      "128    128  A group of girlfriends is on vacation when the...        4.355050\n",
      "49      49  A guy goes into confession and says to the pri...        4.166137\n",
      "55      55  A man and Cindy Crawford get stranded on a des...        4.053625\n",
      "52      52  One Sunday morning William burst into the livi...        4.036792\n"
     ]
    }
   ],
   "source": [
    "# Recommend user 100 with the top 10 jokes\n",
    "recommend_SVD(100, 10)"
   ]
  },
  {
   "cell_type": "code",
   "execution_count": 22,
   "metadata": {},
   "outputs": [],
   "source": [
    "# Function where the user can input their user id and the number of recommendation they need\n",
    "def recommend_SVD_input():\n",
    "    userId = int(input(\"What is your User ID?\"))\n",
    "    num_recommendations = int(input(\"How many recommendations do you want?\"))\n",
    "    user_df = jester_text_df.copy()\n",
    "    user_df = user_df.reset_index()\n",
    "\n",
    "    data = Dataset.load_from_df(jester_df[['userId', 'jokeId', 'rating']], reader)\n",
    "\n",
    "    trainset = data.build_full_trainset()\n",
    "    svd.fit(trainset)\n",
    "\n",
    "    user_df['Estimate_Score'] = user_df['jokeId'].apply(lambda x: svd.predict(userId, x).est)\n",
    "\n",
    "    user_df = user_df.drop('jokeId', axis = 1)\n",
    "\n",
    "    user_df = user_df.sort_values('Estimate_Score', ascending=False)\n",
    "    print(user_df.head(num_recommendations))"
   ]
  },
  {
   "cell_type": "code",
   "execution_count": 23,
   "metadata": {},
   "outputs": [],
   "source": [
    "# Function where the user gets a random joke and depending if they like or dislike the joke, they get another similar joke\n",
    "import random\n",
    "\n",
    "def recommend_SVD_input_2():\n",
    "    user_df = jester_text_df.copy()\n",
    "    user_df = user_df.reset_index()\n",
    "\n",
    "    data = Dataset.load_from_df(jester_df[['userId', 'jokeId', 'rating']], reader)\n",
    "\n",
    "    trainset = data.build_full_trainset()\n",
    "    svd.fit(trainset)\n",
    "\n",
    "    # Randomly select a joke\n",
    "    random_jokeId = random.randint(1, 128)\n",
    "    random_joke_text = user_df.loc[user_df['jokeId'] == random_jokeId, 'jokeText'].item()\n",
    "    print(\"Here is your joke: \")\n",
    "    print(random_joke_text)\n",
    "\n",
    "    accum = 0\n",
    "   \n",
    "    while True:\n",
    "        liked = input(\"Do you want a similair joke? Answer with Y or N\")\n",
    "        # Ask the user to continue or leave\n",
    "        if liked.lower() == 'y':\n",
    "            user_df['Estimate_Score'] = user_df['jokeId'].apply(lambda x: svd.predict(random_jokeId, x).est)\n",
    "            user_df = user_df.sort_values('Estimate_Score', ascending=False)\n",
    "            print(\"Here is another joke: \")\n",
    "            print(user_df['jokeText'][accum])\n",
    "            accum += 1\n",
    "        else:\n",
    "            print(\"Goodbye\")\n",
    "            break"
   ]
  },
  {
   "attachments": {},
   "cell_type": "markdown",
   "metadata": {},
   "source": [
    "## 4.2) Code with Surprise and KNN"
   ]
  },
  {
   "cell_type": "code",
   "execution_count": 24,
   "metadata": {},
   "outputs": [],
   "source": [
    "# Hyperparameter tuning with GridSearch\n",
    "#parameters = {\"name\": [\"cosine\", \"pearson\"],\n",
    "#              \"user_based\": [True, False],\n",
    "#              \"min_support\": [True, False],\n",
    "#              \"min_k\": [2, 5, 10]}\n",
    "#gridknn = GridSearchCV(KNNBasic, param_grid=parameters, n_jobs=-1)\n",
    "#gridknn.fit(data)\n",
    "#print(gridknn.best_score)\n",
    "#print(gridknn.best_params)"
   ]
  },
  {
   "cell_type": "code",
   "execution_count": 25,
   "metadata": {},
   "outputs": [],
   "source": [
    "# Loading the dataset\n",
    "reader = Reader(rating_scale=(-10, 10))\n",
    "knn_data = Dataset.load_from_df(jester_df[['userId', 'jokeId', 'rating']][:200000], reader) # using only 200k rows for faster run time"
   ]
  },
  {
   "cell_type": "code",
   "execution_count": 26,
   "metadata": {},
   "outputs": [],
   "source": [
    "# Fitting a KNNBasic model to the training set\n",
    "knn = KNNBasic(sim_options={\"name\": 'pearson',\n",
    "                            \"user_based\": True,\n",
    "                            \"min_support\": True,\n",
    "                            \"min_k\": 1})"
   ]
  },
  {
   "cell_type": "code",
   "execution_count": 27,
   "metadata": {},
   "outputs": [],
   "source": [
    "knn_trainset, knn_testset = train_test_split(knn_data, test_size=0.2)"
   ]
  },
  {
   "cell_type": "code",
   "execution_count": 28,
   "metadata": {},
   "outputs": [
    {
     "name": "stdout",
     "output_type": "stream",
     "text": [
      "Computing the pearson similarity matrix...\n",
      "Done computing similarity matrix.\n"
     ]
    }
   ],
   "source": [
    "# Fitting KNNBasic model to training set\n",
    "knn.fit(knn_trainset)\n",
    "\n",
    "# Test the model on the testing set\n",
    "knn_predictions = knn.test(knn_testset)"
   ]
  },
  {
   "cell_type": "code",
   "execution_count": 29,
   "metadata": {},
   "outputs": [
    {
     "name": "stdout",
     "output_type": "stream",
     "text": [
      "user: 6307       item: 46         r_ui = -8.22   est = -2.57   {'actual_k': 40, 'was_impossible': False}\n",
      "user: 1389       item: 47         r_ui = -9.91   est = 2.16   {'actual_k': 40, 'was_impossible': False}\n",
      "user: 3779       item: 15         r_ui = -7.38   est = -2.75   {'actual_k': 40, 'was_impossible': False}\n",
      "user: 5879       item: 32         r_ui = 1.56   est = 1.77   {'actual_k': 40, 'was_impossible': False}\n",
      "user: 5073       item: 7          r_ui = -9.84   est = -2.44   {'actual_k': 40, 'was_impossible': False}\n"
     ]
    }
   ],
   "source": [
    "# Printing users actual ratings and the predicted ratings\n",
    "for prediction in knn_predictions[0:5]:\n",
    "    print(prediction)"
   ]
  },
  {
   "cell_type": "code",
   "execution_count": 30,
   "metadata": {},
   "outputs": [
    {
     "name": "stdout",
     "output_type": "stream",
     "text": [
      "RMSE: 5.3573\n"
     ]
    },
    {
     "data": {
      "text/plain": [
       "5.357290235879258"
      ]
     },
     "execution_count": 30,
     "metadata": {},
     "output_type": "execute_result"
    }
   ],
   "source": [
    "# Print the performance metrics\n",
    "accuracy.rmse(knn_predictions)"
   ]
  },
  {
   "cell_type": "code",
   "execution_count": 31,
   "metadata": {},
   "outputs": [],
   "source": [
    "def recommend_KNN(userId, num_recommendations):\n",
    "    user_df = jester_text_df.copy()\n",
    "    user_df = user_df.reset_index()\n",
    "\n",
    "    data = Dataset.load_from_df(jester_df[['userId', 'jokeId', 'rating']][:200000], reader)\n",
    "\n",
    "    trainset = data.build_full_trainset()\n",
    "    knn.fit(trainset)\n",
    "\n",
    "    user_df['Estimate_Score'] = user_df['jokeId'].apply(lambda x: knn.predict(userId, x).est)\n",
    "\n",
    "    user_df = user_df.drop('jokeId', axis = 1)\n",
    "\n",
    "    user_df = user_df.sort_values('Estimate_Score', ascending=False)\n",
    "    print(user_df.head(num_recommendations))"
   ]
  },
  {
   "cell_type": "code",
   "execution_count": 32,
   "metadata": {},
   "outputs": [
    {
     "name": "stdout",
     "output_type": "stream",
     "text": [
      "Computing the pearson similarity matrix...\n",
      "Done computing similarity matrix.\n",
      "     index                                           jokeText  Estimate_Score\n",
      "16      16  How many men does it take to screw in a light ...        5.168930\n",
      "12      12  They asked the Japanese visitor if they have e...        4.744469\n",
      "26      26  Clinton returns from a vacation in Arkansas an...        4.057151\n",
      "131    131  Mickey Mouse is having a nasty divorce with Mi...        4.043273\n",
      "34      34  An explorer in the deepest Amazon suddenly fin...        4.001111\n",
      "31      31  A man arrives at the gates of heaven. St. Pete...        3.977635\n",
      "88      88  A radio conversation of a US naval \\nship with...        3.917150\n",
      "125    125  A Briton, a Frenchman and a Russian are viewin...        3.805353\n",
      "47      47  The graduate with a Science degree asks, \"Why ...        3.764531\n",
      "104    104  A couple of hunters are out in the woods in th...        3.702548\n"
     ]
    }
   ],
   "source": [
    "# Recommend user 100 with the top 10 jokes\n",
    "recommend_KNN(100, 10)"
   ]
  },
  {
   "cell_type": "code",
   "execution_count": 33,
   "metadata": {},
   "outputs": [],
   "source": [
    "# Function where the user can input their user id and the number of recommendation they need\n",
    "def recommend_KNN_input():\n",
    "    userId = int(input(\"What is your User ID?\"))\n",
    "    num_recommendations = int(input(\"How many recommendations do you want?\"))\n",
    "    user_df = jester_text_df.copy()\n",
    "    user_df = user_df.reset_index()\n",
    "\n",
    "    data = Dataset.load_from_df(jester_df[['userId', 'jokeId', 'rating']][:200000], reader)\n",
    "\n",
    "    trainset = data.build_full_trainset()\n",
    "    knn.fit(trainset)\n",
    "\n",
    "    user_df['Estimate_Score'] = user_df['jokeId'].apply(lambda x: knn.predict(userId, x).est)\n",
    "\n",
    "    user_df = user_df.drop('jokeId', axis = 1)\n",
    "\n",
    "    user_df = user_df.sort_values('Estimate_Score', ascending=False)\n",
    "    print(user_df.head(num_recommendations))"
   ]
  },
  {
   "cell_type": "code",
   "execution_count": 34,
   "metadata": {},
   "outputs": [],
   "source": [
    "# Function where the user gets a random joke and depending if they like or dislike the joke, they get another similar joke\n",
    "import random\n",
    "\n",
    "def recommend_KNN_input_2():\n",
    "    user_df = jester_text_df.copy()\n",
    "    user_df = user_df.reset_index()\n",
    "\n",
    "    data = Dataset.load_from_df(jester_df[['userId', 'jokeId', 'rating']][:200000], reader)\n",
    "\n",
    "    trainset = data.build_full_trainset()\n",
    "    knn.fit(trainset)\n",
    "\n",
    "    # Randomly select a joke\n",
    "    random_jokeId = random.randint(1, 128)\n",
    "    random_joke_text = user_df.loc[user_df['jokeId'] == random_jokeId, 'jokeText'].item()\n",
    "    print(\"Here is your joke: \")\n",
    "    print(random_joke_text)\n",
    "\n",
    "    accum = 0\n",
    "   \n",
    "    while True:\n",
    "        liked = input(\"Do you want a similair joke? Answer with Y or N\")\n",
    "        # Ask the user to continue or leave\n",
    "        if liked.lower() == 'y':\n",
    "            user_df['Estimate_Score'] = user_df['jokeId'].apply(lambda x: knn.predict(random_jokeId, x).est)\n",
    "            user_df = user_df.sort_values('Estimate_Score', ascending=False)\n",
    "            print(\"Here is another joke: \")\n",
    "            print(user_df['jokeText'][accum])\n",
    "            accum += 1\n",
    "        else:\n",
    "            print(\"Goodbye\")\n",
    "            break"
   ]
  },
  {
   "attachments": {},
   "cell_type": "markdown",
   "metadata": {},
   "source": [
    "# 5) Predictive accuracy metrics"
   ]
  },
  {
   "cell_type": "code",
   "execution_count": 35,
   "metadata": {},
   "outputs": [
    {
     "name": "stdout",
     "output_type": "stream",
     "text": [
      "Computing the pearson similarity matrix...\n",
      "Done computing similarity matrix.\n",
      "Computing the pearson similarity matrix...\n",
      "Done computing similarity matrix.\n",
      "Computing the pearson similarity matrix...\n",
      "Done computing similarity matrix.\n",
      "Computing the pearson similarity matrix...\n",
      "Done computing similarity matrix.\n",
      "Computing the pearson similarity matrix...\n",
      "Done computing similarity matrix.\n",
      "Evaluating RMSE, MAE of algorithm KNNBasic on 5 split(s).\n",
      "\n",
      "                  Fold 1  Fold 2  Fold 3  Fold 4  Fold 5  Mean    Std     \n",
      "RMSE (testset)    5.3369  5.3319  5.3611  5.3508  5.3601  5.3482  0.0119  \n",
      "MAE (testset)     4.3679  4.3737  4.4026  4.3851  4.4039  4.3867  0.0146  \n",
      "Fit time          29.02   29.09   27.94   28.23   28.65   28.58   0.45    \n",
      "Test time         36.46   34.18   34.55   35.97   35.08   35.25   0.86    \n"
     ]
    },
    {
     "data": {
      "text/plain": [
       "{'test_rmse': array([5.33691877, 5.33189977, 5.3610713 , 5.35081245, 5.36013321]),\n",
       " 'test_mae': array([4.36794724, 4.37370591, 4.40261346, 4.38514116, 4.40389767]),\n",
       " 'fit_time': (29.016343116760254,\n",
       "  29.090988874435425,\n",
       "  27.938860654830933,\n",
       "  28.229264974594116,\n",
       "  28.648693323135376),\n",
       " 'test_time': (36.46067547798157,\n",
       "  34.17726707458496,\n",
       "  34.55016565322876,\n",
       "  35.972158670425415,\n",
       "  35.08060383796692)}"
      ]
     },
     "execution_count": 35,
     "metadata": {},
     "output_type": "execute_result"
    }
   ],
   "source": [
    "# Run 5-fold cross-validation and print results\n",
    "cross_validate(knn, knn_data, measures=[\"RMSE\", \"MAE\"], cv=5, verbose=True) # Loading time ~10 minutes"
   ]
  },
  {
   "cell_type": "code",
   "execution_count": 36,
   "metadata": {},
   "outputs": [
    {
     "name": "stdout",
     "output_type": "stream",
     "text": [
      "Evaluating RMSE, MAE of algorithm SVD on 5 split(s).\n",
      "\n",
      "                  Fold 1  Fold 2  Fold 3  Fold 4  Fold 5  Mean    Std     \n",
      "RMSE (testset)    4.2696  4.2820  4.2678  4.2848  4.2992  4.2807  0.0114  \n",
      "MAE (testset)     3.1401  3.1470  3.1337  3.1495  3.1555  3.1452  0.0076  \n",
      "Fit time          3.41    3.53    3.54    3.67    3.60    3.55    0.09    \n",
      "Test time         2.58    2.50    2.09    2.12    2.18    2.29    0.20    \n"
     ]
    },
    {
     "data": {
      "text/plain": [
       "{'test_rmse': array([4.26957043, 4.28202833, 4.26782239, 4.28476312, 4.2991985 ]),\n",
       " 'test_mae': array([3.1401429 , 3.14695411, 3.13371046, 3.14946202, 3.15553092]),\n",
       " 'fit_time': (3.4069724082946777,\n",
       "  3.526571035385132,\n",
       "  3.5365469455718994,\n",
       "  3.6681923866271973,\n",
       "  3.598378896713257),\n",
       " 'test_time': (2.581317186355591,\n",
       "  2.495300054550171,\n",
       "  2.090380907058716,\n",
       "  2.1173386573791504,\n",
       "  2.1843576431274414)}"
      ]
     },
     "execution_count": 36,
     "metadata": {},
     "output_type": "execute_result"
    }
   ],
   "source": [
    "# Run 5-fold cross-validation and print results\n",
    "cross_validate(svd, svd_data, measures=[\"RMSE\", \"MAE\"], cv=5, verbose=True)"
   ]
  }
 ],
 "metadata": {
  "kernelspec": {
   "display_name": "base",
   "language": "python",
   "name": "python3"
  },
  "language_info": {
   "codemirror_mode": {
    "name": "ipython",
    "version": 3
   },
   "file_extension": ".py",
   "mimetype": "text/x-python",
   "name": "python",
   "nbconvert_exporter": "python",
   "pygments_lexer": "ipython3",
   "version": "3.9.12"
  },
  "orig_nbformat": 4
 },
 "nbformat": 4,
 "nbformat_minor": 2
}
