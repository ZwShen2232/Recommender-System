{
 "cells": [
  {
   "attachments": {},
   "cell_type": "markdown",
   "metadata": {},
   "source": [
    "# Dataset Preparation"
   ]
  },
  {
   "cell_type": "code",
   "execution_count": 71,
   "metadata": {},
   "outputs": [],
   "source": [
    "# Importing Libraries\n",
    "import pandas as pd\n",
    "import seaborn as sns\n",
    "import matplotlib.pyplot as plt\n",
    "import numpy as np\n",
    "\n",
    "# Libraries for metrics\n",
    "from sklearn.metrics import mean_absolute_error, mean_absolute_percentage_error,mean_squared_error, r2_score #Import all the necessary model evaluation metrics\n",
    "from sklearn.metrics import accuracy_score, f1_score, roc_auc_score #Import all the necessary model evaluation metrics\n",
    "import shap"
   ]
  },
  {
   "cell_type": "code",
   "execution_count": 72,
   "metadata": {},
   "outputs": [],
   "source": [
    "# Importing Datasets\n",
    "jester_df = pd.read_csv(r\"jester_ratings.csv\")\n",
    "jester_text_df = pd.read_csv(r\"jester_items.csv\")"
   ]
  },
  {
   "attachments": {},
   "cell_type": "markdown",
   "metadata": {},
   "source": [
    "# Collaborative Filter SVD"
   ]
  },
  {
   "attachments": {},
   "cell_type": "markdown",
   "metadata": {},
   "source": [
    "### Preparing data"
   ]
  },
  {
   "cell_type": "code",
   "execution_count": 73,
   "metadata": {},
   "outputs": [
    {
     "name": "stdout",
     "output_type": "stream",
     "text": [
      "There are  59132 unique users\n",
      "There are  10291 unique users that have rated more than 50 jokes\n",
      "There are  140 unique jokes\n",
      "There are  128 unique jokes that have more than 1000 ratings\n",
      "\n",
      "Subset of data: \n",
      "         userId  jokeId  rating\n",
      "1             1       7  -9.281\n",
      "2             1       8  -9.281\n",
      "3             1      13  -6.781\n",
      "4             1      15   0.875\n",
      "5             1      16  -9.656\n",
      "...         ...     ...     ...\n",
      "1761434   63978      57  -8.531\n",
      "1761435   63978      24  -9.062\n",
      "1761436   63978     124  -9.031\n",
      "1761437   63978      58  -8.656\n",
      "1761438   63978      44  -8.438\n",
      "\n",
      "[945825 rows x 3 columns]\n"
     ]
    }
   ],
   "source": [
    "# Counting Users that have not rated more than 50 jokes\n",
    "usercount = jester_df[[\"jokeId\", \"userId\"]].groupby(\"userId\").count()\n",
    "print(\"There are \", usercount.shape[0], \"unique users\")\n",
    "usercount = usercount[usercount[\"jokeId\"]>50]\n",
    "print(\"There are \", usercount.shape[0], \"unique users that have rated more than 50 jokes\")\n",
    "\n",
    "# Counting Jokes that do not have more than 1000 ratings\n",
    "jokecount = jester_df[[\"jokeId\", \"userId\"]].groupby(\"jokeId\").count()\n",
    "print(\"There are \", jokecount.shape[0], \"unique jokes\")\n",
    "jokecount = jokecount[jokecount[\"userId\"]>1000]\n",
    "print(\"There are \", jokecount.shape[0], \"unique jokes that have more than 1000 ratings\")\n",
    "\n",
    "# Removing the unactive users and unpopular jokes from the df\n",
    "jester_df = jester_df[jester_df[\"userId\"].isin(usercount.index) & jester_df[\"jokeId\"].isin(jokecount.index)]\n",
    "print(\"\\nSubset of data: \")\n",
    "print(jester_df)"
   ]
  },
  {
   "cell_type": "code",
   "execution_count": 74,
   "metadata": {},
   "outputs": [
    {
     "name": "stdout",
     "output_type": "stream",
     "text": [
      "Number of unique users:  10291\n",
      "Number of unique jokes:  128\n",
      "The full rating matrix will have  1317248 elements.\n",
      "--------\n",
      "Number of ratings:  945825\n",
      "Therefore: only  71.80310769118647 % of the matrix is filled\n",
      "This is a sparse matrix\n"
     ]
    }
   ],
   "source": [
    "# Analyzing the sparse matrix\n",
    "n_users = len(jester_df.userId.unique())\n",
    "n_jokes = len(jester_df.jokeId.unique())\n",
    "print(\"Number of unique users: \", n_users)\n",
    "print(\"Number of unique jokes: \", n_jokes)\n",
    "print(\"The full rating matrix will have \", n_users*n_jokes, \"elements.\")\n",
    "print(\"--------\")\n",
    "print(\"Number of ratings: \", len(jester_df))\n",
    "print(\"Therefore: only \", len(jester_df) / (n_users*n_jokes) * 100, \"% of the matrix is filled\")\n",
    "print(\"This is a sparse matrix\")\n"
   ]
  },
  {
   "attachments": {},
   "cell_type": "markdown",
   "metadata": {},
   "source": [
    "### Pivotting the dataset and creating a matrix"
   ]
  },
  {
   "cell_type": "code",
   "execution_count": 75,
   "metadata": {},
   "outputs": [
    {
     "data": {
      "text/plain": [
       "array([[-9.281, -9.281, -6.781, ...,  0.   ,  0.   ,  0.   ],\n",
       "       [ 4.75 , -5.906, -0.406, ...,  0.   ,  0.   ,  0.   ],\n",
       "       [-7.438, -0.812, -3.438, ...,  0.   ,  0.   ,  0.   ],\n",
       "       ...,\n",
       "       [-5.094, -6.031,  1.344, ...,  4.688,  2.062,  5.312],\n",
       "       [ 1.375,  2.406,  3.562, ...,  1.812,  1.   ,  1.531],\n",
       "       [-7.906, -7.594, -7.594, ...,  8.781,  8.781,  7.562]])"
      ]
     },
     "execution_count": 75,
     "metadata": {},
     "output_type": "execute_result"
    }
   ],
   "source": [
    "jester_matrix = jester_df.pivot_table(index=('userId'), columns=('jokeId'), values=('rating')).fillna(0)\n",
    "matrix = jester_matrix.values\n",
    "matrix"
   ]
  },
  {
   "attachments": {},
   "cell_type": "markdown",
   "metadata": {},
   "source": [
    "### Calculate the ratings"
   ]
  },
  {
   "cell_type": "code",
   "execution_count": 76,
   "metadata": {},
   "outputs": [],
   "source": [
    "# Compute SVD\n",
    "u, sigma, vt = np.linalg.svd(matrix, full_matrices=False)\n",
    "\n",
    "# Function to use the cosine similarity to find the most similar jokes\n",
    "def cosine_similarity(v,u):\n",
    "    return (v @ u)/ (np.linalg.norm(v) * np.linalg.norm(u))\n",
    "\n",
    "# https://heartbeat.comet.ml/recommender-systems-with-python-part-iii-collaborative-filtering-singular-value-decomposition-5b5dcb3f242b \n",
    "# Convert sigma into diagonal matrix form because we are using it to leverage matrix multiplication to get predictions\n",
    "sigma = np.diag(sigma)\n",
    "all_user_predicted_ratings = np.dot(np.dot(u, sigma), vt) #+ jester_df.mean().reshape(-1, 1)"
   ]
  },
  {
   "cell_type": "code",
   "execution_count": 77,
   "metadata": {},
   "outputs": [
    {
     "data": {
      "text/plain": [
       "array([[-9.28100000e+00, -9.28100000e+00, -6.78100000e+00, ...,\n",
       "         3.81835015e-14,  2.88632113e-14,  3.52354000e-14],\n",
       "       [ 4.75000000e+00, -5.90600000e+00, -4.06000000e-01, ...,\n",
       "         3.00403946e-14,  3.00926332e-14,  3.26715538e-14],\n",
       "       [-7.43800000e+00, -8.12000000e-01, -3.43800000e+00, ...,\n",
       "        -3.92360696e-15,  7.12553917e-15,  3.78360284e-15],\n",
       "       ...,\n",
       "       [-5.09400000e+00, -6.03100000e+00,  1.34400000e+00, ...,\n",
       "         4.68800000e+00,  2.06200000e+00,  5.31200000e+00],\n",
       "       [ 1.37500000e+00,  2.40600000e+00,  3.56200000e+00, ...,\n",
       "         1.81200000e+00,  1.00000000e+00,  1.53100000e+00],\n",
       "       [-7.90600000e+00, -7.59400000e+00, -7.59400000e+00, ...,\n",
       "         8.78100000e+00,  8.78100000e+00,  7.56200000e+00]])"
      ]
     },
     "execution_count": 77,
     "metadata": {},
     "output_type": "execute_result"
    }
   ],
   "source": [
    "all_user_predicted_ratings"
   ]
  },
  {
   "cell_type": "code",
   "execution_count": 78,
   "metadata": {},
   "outputs": [
    {
     "data": {
      "text/plain": [
       "array([[-9.281, -9.281, -6.781, ...,  0.   ,  0.   ,  0.   ],\n",
       "       [ 4.75 , -5.906, -0.406, ...,  0.   ,  0.   ,  0.   ],\n",
       "       [-7.438, -0.812, -3.438, ...,  0.   ,  0.   ,  0.   ],\n",
       "       ...,\n",
       "       [-5.094, -6.031,  1.344, ...,  4.688,  2.062,  5.312],\n",
       "       [ 1.375,  2.406,  3.562, ...,  1.812,  1.   ,  1.531],\n",
       "       [-7.906, -7.594, -7.594, ...,  8.781,  8.781,  7.562]])"
      ]
     },
     "execution_count": 78,
     "metadata": {},
     "output_type": "execute_result"
    }
   ],
   "source": [
    "matrix"
   ]
  },
  {
   "cell_type": "code",
   "execution_count": 79,
   "metadata": {},
   "outputs": [
    {
     "data": {
      "text/plain": [
       "array([[3269.34955717,    0.        ,    0.        , ...,    0.        ,\n",
       "           0.        ,    0.        ],\n",
       "       [   0.        , 1350.92210243,    0.        , ...,    0.        ,\n",
       "           0.        ,    0.        ],\n",
       "       [   0.        ,    0.        ,  800.45893301, ...,    0.        ,\n",
       "           0.        ,    0.        ],\n",
       "       ...,\n",
       "       [   0.        ,    0.        ,    0.        , ...,  231.93978879,\n",
       "           0.        ,    0.        ],\n",
       "       [   0.        ,    0.        ,    0.        , ...,    0.        ,\n",
       "         228.60555671,    0.        ],\n",
       "       [   0.        ,    0.        ,    0.        , ...,    0.        ,\n",
       "           0.        ,  223.40316915]])"
      ]
     },
     "execution_count": 79,
     "metadata": {},
     "output_type": "execute_result"
    }
   ],
   "source": [
    "sigma"
   ]
  }
 ],
 "metadata": {
  "kernelspec": {
   "display_name": "base",
   "language": "python",
   "name": "python3"
  },
  "language_info": {
   "codemirror_mode": {
    "name": "ipython",
    "version": 3
   },
   "file_extension": ".py",
   "mimetype": "text/x-python",
   "name": "python",
   "nbconvert_exporter": "python",
   "pygments_lexer": "ipython3",
   "version": "3.9.12"
  },
  "orig_nbformat": 4
 },
 "nbformat": 4,
 "nbformat_minor": 2
}
